{
 "cells": [
  {
   "cell_type": "code",
   "execution_count": 1,
   "metadata": {},
   "outputs": [],
   "source": [
    "import configparser\n",
    "\n",
    "from azureml.core import Workspace\n",
    "from azureml.core.authentication import AzureCliAuthentication\n",
    "from azureml.core.compute import AmlCompute, ComputeTarget\n",
    "from azureml.core.runconfig import RunConfiguration\n",
    "from azureml.core.conda_dependencies import CondaDependencies\n",
    "from azureml.pipeline.core._restclients.aeva.models.error_response import ErrorResponseException\n",
    "from azureml.pipeline.core import Pipeline, PipelineEndpoint\n",
    "from azureml.pipeline.steps import PythonScriptStep"
   ]
  },
  {
   "cell_type": "markdown",
   "metadata": {},
   "source": [
    "# 1.0 General reference\n",
    "\n",
    "- [Reference for multi class](https://github.com/Azure/azureml-examples/tree/main/python-sdk/tutorials/automl-with-azureml/image-classification-multiclass)\n",
    "- [Reference for multi label](https://github.com/Azure/azureml-examples/tree/main/python-sdk/tutorials/automl-with-azureml/image-classification-multilabel)\n",
    "- [Reference for object detection](https://github.com/Azure/azureml-examples/blob/main/python-sdk/tutorials/automl-with-azureml/image-object-detection/auto-ml-image-object-detection.ipynb)"
   ]
  },
  {
   "cell_type": "code",
   "execution_count": 2,
   "metadata": {},
   "outputs": [],
   "source": [
    "## 1.0.1 Retrieve configuration file\n",
    "config_ini = configparser.ConfigParser()\n",
    "config_ini.read('./common/config.ini', encoding='utf-8')\n",
    "\n",
    "## 1.0.2 Basic Azure parameters\n",
    "subscription_id = config_ini.get('Azure', 'subscription_id')\n",
    "resource_group = config_ini.get('Azure', 'resource_group')\n",
    "workspace_name = config_ini.get('Azure', 'workspace_name')\n",
    "\n",
    "## 1.0.3 Data\n",
    "train_ratio = config_ini.get('data', 'train_ratio')\n",
    "dataset_name = config_ini.get('data', 'dataset_name')\n",
    "dataset_name_for_train = config_ini.get('data', 'dataset_name_for_train')\n",
    "dataset_name_for_test = config_ini.get('data', 'dataset_name_for_test')\n",
    "\n",
    "## 1.0.4 Azure ML parameters\n",
    "cluster_name = config_ini.get('AML', 'cluster_name')\n",
    "vm_size = config_ini.get('AML', 'vm_size')\n",
    "vm_location = config_ini.get('AML', 'vm_location')\n",
    "managed_id = config_ini.get('AML', 'managed_id')\n",
    "image_analysis_type = config_ini.get('AML', 'image_analysis_type')\n",
    "random_seed = config_ini.get('AML', 'random_seed')\n",
    "\n",
    "## 1.0.5 Parameters for image classification\n",
    "experiment_name = config_ini.get('AML', 'experiment_name')\n",
    "base_model = config_ini.get('AML', 'base_model')\n",
    "pipelineName = config_ini.get('AML', 'pipelineName')\n",
    "model_name = config_ini.get('AML', 'model_name')"
   ]
  },
  {
   "cell_type": "markdown",
   "metadata": {},
   "source": [
    "# 1.1 Authentication"
   ]
  },
  {
   "cell_type": "code",
   "execution_count": 3,
   "metadata": {},
   "outputs": [],
   "source": [
    "## 1.1.1 Retrieve AML workspace with CLI authentication\n",
    "cli_auth = AzureCliAuthentication()\n",
    "ws = Workspace(subscription_id=subscription_id,\n",
    "               resource_group=resource_group,\n",
    "               workspace_name=workspace_name,\n",
    "               auth=cli_auth)"
   ]
  },
  {
   "cell_type": "markdown",
   "metadata": {},
   "source": [
    "# 1.2 Define compute target"
   ]
  },
  {
   "cell_type": "code",
   "execution_count": 4,
   "metadata": {},
   "outputs": [
    {
     "name": "stdout",
     "output_type": "stream",
     "text": [
      "Found existing compute target.\n",
      "Succeeded\n",
      "AmlCompute wait for completion finished\n",
      "\n",
      "Minimum number of nodes requested have been provisioned\n"
     ]
    }
   ],
   "source": [
    "## 1.2.1 Define computer target\n",
    "## For automl image model, we need NC-series instead of NV-series\n",
    "try:\n",
    "    compute_target = ws.compute_targets[cluster_name]\n",
    "    print(\"Found existing compute target.\")\n",
    "except KeyError:\n",
    "    print(\"Creating a new compute target...\")\n",
    "    compute_config = AmlCompute.provisioning_configuration(\n",
    "        vm_size=vm_size,\n",
    "        idle_seconds_before_scaledown=600,\n",
    "        min_nodes=0,\n",
    "        max_nodes=4,\n",
    "        location=vm_location,\n",
    "        identity_type=managed_id,\n",
    "    )\n",
    "    compute_target = ComputeTarget.create(ws, cluster_name, compute_config)\n",
    "# Can poll for a minimum number of nodes and for a specific timeout.\n",
    "# If no min_node_count is provided, it will use the scale settings for the cluster.\n",
    "compute_target.wait_for_completion(\n",
    "    show_output=True, min_node_count=None, timeout_in_minutes=20\n",
    ")"
   ]
  },
  {
   "cell_type": "markdown",
   "metadata": {},
   "source": [
    "# 1.3 Run-Configuration"
   ]
  },
  {
   "cell_type": "code",
   "execution_count": 5,
   "metadata": {},
   "outputs": [],
   "source": [
    "## 1.3.1 Run configuration \n",
    "## `compute_target` as defined in \"Azure Machine Learning compute\" section above\n",
    "aml_run_config = RunConfiguration()\n",
    "aml_run_config.target = compute_target\n",
    "\n",
    "## 1.3.2 Add some packages relied on by data prep step\n",
    "aml_run_config.environment.python.conda_dependencies = CondaDependencies.create(\n",
    "    conda_packages=['pandas','scikit-learn'], \n",
    "    pip_packages=['azureml-sdk', 'azureml-automl-core'],\n",
    "    pin_sdk_version=False)"
   ]
  },
  {
   "cell_type": "markdown",
   "metadata": {},
   "source": [
    "# 1.4 Generate AML pipeline for training"
   ]
  },
  {
   "cell_type": "code",
   "execution_count": 80,
   "metadata": {},
   "outputs": [],
   "source": [
    "## 1.4.1 Define python script and its arguments to be used\n",
    "trainStep = PythonScriptStep(\n",
    "    script_name=\"train.py\",\n",
    "    arguments=[\n",
    "        \"--subscription_id\",\n",
    "        subscription_id,\n",
    "        \"--resource_group\",\n",
    "        resource_group,\n",
    "        \"--workspace_name\",\n",
    "        workspace_name,\n",
    "        \"--cluster_name\",\n",
    "        cluster_name,\n",
    "        \"--experiment_name\",\n",
    "        experiment_name,\n",
    "        \"--base_model\",\n",
    "        base_model,\n",
    "        \"--dataset_name\",\n",
    "        dataset_name,\n",
    "        \"--dataset_name_for_train\",\n",
    "        dataset_name_for_train,\n",
    "        \"--dataset_name_for_test\",\n",
    "        dataset_name_for_test,\n",
    "        \"--train_ratio\",\n",
    "        train_ratio,\n",
    "        \"--random_seed\",\n",
    "        random_seed,\n",
    "        \"--model_name\",\n",
    "        model_name,\n",
    "        \"--image_analysis_type\",\n",
    "        image_analysis_type\n",
    "    ],\n",
    "    compute_target=compute_target,\n",
    "    source_directory='.',\n",
    "    runconfig=aml_run_config,\n",
    "    allow_reuse = True,\n",
    ")\n",
    "\n",
    "## 1.4.2 Define Azure ML Pipeline\n",
    "pipeline = Pipeline(workspace=ws, steps=[trainStep])"
   ]
  },
  {
   "cell_type": "code",
   "execution_count": 81,
   "metadata": {},
   "outputs": [
    {
     "name": "stdout",
     "output_type": "stream",
     "text": [
      "Found existing pipeline object_detection_pipeline, adding new version.\n",
      "Created step train.py [0080747b][c63f95ad-90a8-40ec-b605-4d59b3ca0cf9], (This step will run and generate new outputs)\n"
     ]
    }
   ],
   "source": [
    "## 1.4.3 Update AML Pipeline if already exists\n",
    "##  With the following steps, REST URI is kept.\n",
    "try:\n",
    "    pipelineEndpoint = PipelineEndpoint.get(workspace=ws, name=pipelineName)\n",
    "except ErrorResponseException as ex:\n",
    "    if \"not found in workspace\" in ex.message:\n",
    "        pipelineEndpoint = None\n",
    "    else:\n",
    "        raise\n",
    "\n",
    "if pipelineEndpoint is None:\n",
    "    print('Pipeline does not exists, creating new: ' + pipelineName)\n",
    "    pipelineEndpoint = PipelineEndpoint.publish(workspace = ws\n",
    "                                        ,name = pipelineName\n",
    "                                        ,pipeline=pipeline\n",
    "                                        ,description=\"My Published Pipeline Description.\")\n",
    "else:\n",
    "    print('Found existing pipeline ' + pipelineName + ', adding new version.')\n",
    "    published_pipeline = pipeline.publish(name = pipelineName + \"_Pipeline\")\n",
    "    pipelineEndpoint.add_default(published_pipeline)"
   ]
  }
 ],
 "metadata": {
  "kernelspec": {
   "display_name": "Python 3.8 - AzureML",
   "language": "python",
   "name": "python38-azureml"
  },
  "language_info": {
   "codemirror_mode": {
    "name": "ipython",
    "version": 3
   },
   "file_extension": ".py",
   "mimetype": "text/x-python",
   "name": "python",
   "nbconvert_exporter": "python",
   "pygments_lexer": "ipython3",
   "version": "3.8.5"
  },
  "orig_nbformat": 4,
  "vscode": {
   "interpreter": {
    "hash": "31f2aee4e71d21fbe5cf8b01ff0e069b9275f58929596ceb00d14d90e3e16cd6"
   }
  }
 },
 "nbformat": 4,
 "nbformat_minor": 2
}
