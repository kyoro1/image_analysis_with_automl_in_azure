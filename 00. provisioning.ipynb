{
  "cells": [
    {
      "cell_type": "markdown",
      "metadata": {},
      "source": [
        "# 0.0 Create Azure resources\n",
        "\n",
        "## 0.0.1 Create Azure ML workspace with Azure portal\n",
        "\n",
        "If you don't have Microsoft Azure resouce, please create it from [this page](https://azure.microsoft.com/en-us/free/).\n",
        "\n",
        "Once the resource is prepared, create Azure ML Workspace with the [following instruction](https://docs.microsoft.com/en-us/azure/machine-learning/how-to-manage-workspace?tabs=azure-portal). During the instruction, please note the following variables, which will be used in actual scenario:\n",
        "\n",
        "- `subscription`\n",
        "- `resource group`\n",
        "- `region`\n",
        "- `workspace name`\n",
        "- `storage account`\n",
        "\n"
      ]
    },
    {
      "cell_type": "markdown",
      "metadata": {},
      "source": [
        "# 0.1 Set variables in `config.ini`\n",
        "\n"
      ]
    },
    {
      "cell_type": "code",
      "execution_count": null,
      "metadata": {},
      "outputs": [],
      "source": [
        "import configparser\n",
        "\n",
        "## Setting\n",
        "config_ini = configparser.ConfigParser()\n",
        "config_ini.read('./common/config.ini', encoding='utf-8')\n",
        "\n",
        "subscription_id = config_ini.get('Azure', 'subscription_id')\n",
        "resource_group = config_ini.get('Azure', 'resource_group')\n",
        "workspace_name = config_ini.get('Azure', 'workspace_name')"
      ]
    },
    {
      "cell_type": "markdown",
      "metadata": {},
      "source": [
        "## 0.2 authentication with Azure ML\n",
        "\n",
        "We use `az` login for simplicity, and please use `az login` command here.\n",
        "Also, you may check [other ways to authenticate](https://github.com/Azure/MachineLearningNotebooks/blob/master/how-to-use-azureml/manage-azureml-service/authentication-in-azureml/authentication-in-azureml.ipynb)."
      ]
    },
    {
      "cell_type": "code",
      "execution_count": null,
      "metadata": {},
      "outputs": [],
      "source": [
        "#!az login\n",
        "!az login --use-device-code"
      ]
    },
    {
      "cell_type": "markdown",
      "metadata": {},
      "source": [
        "## 0.3 Azure ML Environment setup\n",
        "\n"
      ]
    },
    {
      "cell_type": "code",
      "execution_count": null,
      "metadata": {
        "jupyter": {
          "outputs_hidden": false,
          "source_hidden": false
        },
        "nteract": {
          "transient": {
            "deleting": false
          }
        }
      },
      "outputs": [],
      "source": [
        "from azureml.core import Workspace\n",
        "from azureml.core.authentication import AzureCliAuthentication\n",
        "\n",
        "cli_auth = AzureCliAuthentication()\n",
        "\n",
        "## Confirm we can access the AML workspace\n",
        "ws = Workspace(subscription_id=subscription_id,\n",
        "               resource_group=resource_group,\n",
        "               workspace_name=workspace_name,\n",
        "               auth=cli_auth)"
      ]
    }
  ],
  "metadata": {
    "kernel_info": {
      "name": "python38-azureml"
    },
    "kernelspec": {
      "display_name": "Python 3.8 - AzureML",
      "language": "python",
      "name": "python38-azureml"
    },
    "language_info": {
      "codemirror_mode": {
        "name": "ipython",
        "version": 3
      },
      "file_extension": ".py",
      "mimetype": "text/x-python",
      "name": "python",
      "nbconvert_exporter": "python",
      "pygments_lexer": "ipython3",
      "version": "3.8.5"
    },
    "nteract": {
      "version": "nteract-front-end@1.0.0"
    },
    "orig_nbformat": 4,
    "vscode": {
      "interpreter": {
        "hash": "6d65a8c07f5b6469e0fc613f182488c0dccce05038bbda39e5ac9075c0454d11"
      }
    }
  },
  "nbformat": 4,
  "nbformat_minor": 0
}
