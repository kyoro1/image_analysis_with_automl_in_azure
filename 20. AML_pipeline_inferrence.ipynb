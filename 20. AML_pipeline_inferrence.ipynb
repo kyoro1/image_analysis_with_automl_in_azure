{
 "cells": [
  {
   "cell_type": "markdown",
   "metadata": {},
   "source": [
    "# 2.0 Parameter settings"
   ]
  },
  {
   "cell_type": "code",
   "execution_count": null,
   "metadata": {},
   "outputs": [],
   "source": [
    "## 2.0.1 Library import\n",
    "import configparser\n",
    "from azureml.core import Workspace\n",
    "from azureml.core.authentication import AzureCliAuthentication\n",
    "from azureml.core.compute import AmlCompute, ComputeTarget\n",
    "from azureml.core.runconfig import RunConfiguration\n",
    "from azureml.core.conda_dependencies import CondaDependencies\n",
    "from azureml.pipeline.core._restclients.aeva.models.error_response import ErrorResponseException\n",
    "from azureml.pipeline.core import Pipeline, PipelineEndpoint, PipelineParameter\n",
    "from azureml.pipeline.steps import PythonScriptStep"
   ]
  },
  {
   "cell_type": "code",
   "execution_count": null,
   "metadata": {},
   "outputs": [],
   "source": [
    "## 2.0.2 Retrieve configuration file\n",
    "config_ini = configparser.ConfigParser()\n",
    "config_ini.read('./common/config.ini', encoding='utf-8')\n",
    "\n",
    "## 2.0.3 Basic Azure parameters\n",
    "subscription_id = config_ini.get('Azure', 'subscription_id')\n",
    "resource_group = config_ini.get('Azure', 'resource_group')\n",
    "workspace_name = config_ini.get('Azure', 'workspace_name')\n",
    "\n",
    "## 2.0.4 Azure ML parameters\n",
    "cluster_name = config_ini.get('AML', 'cluster_name')\n",
    "vm_size = config_ini.get('AML', 'vm_size')\n",
    "vm_location = config_ini.get('AML', 'vm_location')\n",
    "managed_id = config_ini.get('AML', 'managed_id')\n",
    "\n",
    "## 2.0.5 Parameters for image classification\n",
    "TASK_TYPE=config_ini.get('AML', 'TASK_TYPE')\n",
    "experiment_name_for_inference = config_ini.get('AML', 'experiment_name_for_inference')\n",
    "pipelineName_for_inference = config_ini.get('AML', 'pipelineName_for_inference')\n",
    "model_name = config_ini.get('AML', 'model_name')"
   ]
  },
  {
   "cell_type": "markdown",
   "metadata": {},
   "source": [
    "# 2.1 Authentication"
   ]
  },
  {
   "cell_type": "code",
   "execution_count": null,
   "metadata": {},
   "outputs": [],
   "source": [
    "## 2.1.1 Retrieve AML workspace with CLI authentication\n",
    "cli_auth = AzureCliAuthentication()\n",
    "ws = Workspace(subscription_id=subscription_id,\n",
    "               resource_group=resource_group,\n",
    "               workspace_name=workspace_name,\n",
    "               auth=cli_auth)"
   ]
  },
  {
   "cell_type": "markdown",
   "metadata": {},
   "source": [
    "# 2.2 Define computer target\n",
    "\n",
    "`compute_target` will be used in inferring with generated deep learning model."
   ]
  },
  {
   "cell_type": "code",
   "execution_count": null,
   "metadata": {},
   "outputs": [],
   "source": [
    "## 2.2.1 Define computer target\n",
    "try:\n",
    "    compute_target = ws.compute_targets[cluster_name]\n",
    "    print(\"Found existing compute target.\")\n",
    "except KeyError:\n",
    "    print(\"Creating a new compute target...\")\n",
    "    compute_config = AmlCompute.provisioning_configuration(\n",
    "        vm_size=vm_size,\n",
    "        idle_seconds_before_scaledown=600,\n",
    "        min_nodes=0,\n",
    "        max_nodes=4,\n",
    "        location=vm_location,\n",
    "        identity_type=managed_id,\n",
    "    )\n",
    "    compute_target = ComputeTarget.create(ws, cluster_name, compute_config)\n",
    "# Can poll for a minimum number of nodes and for a specific timeout.\n",
    "# If no min_node_count is provided, it will use the scale settings for the cluster.\n",
    "compute_target.wait_for_completion(\n",
    "    show_output=True, min_node_count=None, timeout_in_minutes=20\n",
    ")"
   ]
  },
  {
   "cell_type": "markdown",
   "metadata": {},
   "source": [
    "# 2.3 Run configuration"
   ]
  },
  {
   "cell_type": "markdown",
   "metadata": {},
   "source": [
    "## 2.3.1 Run configuration\n",
    "\n",
    "It connects `compute_target` with the other settings in executing AML pipeline."
   ]
  },
  {
   "cell_type": "code",
   "execution_count": null,
   "metadata": {},
   "outputs": [],
   "source": [
    "aml_run_config = RunConfiguration()\n",
    "aml_run_config.target = compute_target"
   ]
  },
  {
   "cell_type": "markdown",
   "metadata": {},
   "source": [
    "## 2.3.2 Add some packages for python environment\n",
    "\n",
    "Please check #1.3.2 in [Training Notebook](./10.%20AML_pipeline_train.ipynb) for more detail."
   ]
  },
  {
   "cell_type": "code",
   "execution_count": null,
   "metadata": {},
   "outputs": [],
   "source": [
    "aml_run_config.environment.python.conda_dependencies = CondaDependencies.create(\n",
    "    python_version='3.7'\n",
    "    ,conda_packages=['pandas'\n",
    "                ,'scikit-learn'\n",
    "                ,'numpy==1.20.1'\n",
    "                ,'pycocotools==2.0.2'\n",
    "                ]\n",
    "    ,pip_packages=['azureml-sdk'\n",
    "                ,'azureml-automl-core'\n",
    "                ,'azureml-automl-dnn-vision==1.43.0'\n",
    "                ]\n",
    "    ,pin_sdk_version=False)"
   ]
  },
  {
   "cell_type": "markdown",
   "metadata": {},
   "source": [
    "# 2.4 Generate AML pipeline for inferring"
   ]
  },
  {
   "cell_type": "code",
   "execution_count": null,
   "metadata": {},
   "outputs": [],
   "source": [
    "## 2.4.1 Define python script and its arguments to be used\n",
    "pipeline_param01 = PipelineParameter(name=\"pipeline_arg01\", default_value=\"3\")\n",
    "pipeline_param02 = PipelineParameter(name=\"pipeline_arg02\", default_value=\"3\")\n",
    "pipeline_param03 = PipelineParameter(name=\"pipeline_arg03\", default_value=\"3\")\n",
    "pipeline_param04 = PipelineParameter(name=\"pipeline_arg04\", default_value=\"3\")\n",
    "pipeline_param05 = PipelineParameter(name=\"pipeline_arg05\", default_value=\"3\")\n",
    "pipeline_param06 = PipelineParameter(name=\"pipeline_arg06\", default_value=\"3\")\n",
    "\n",
    "InferenceStep = PythonScriptStep(\n",
    "    script_name=\"inference.py\",\n",
    "    arguments=[\n",
    "        \"--subscription_id\",               pipeline_param01,\n",
    "        \"--resource_group\",                pipeline_param02,\n",
    "        \"--workspace_name\",                pipeline_param03,\n",
    "        \"--cluster_name\",                  pipeline_param04,\n",
    "        \"--model_name\",                    pipeline_param05,\n",
    "        \"--TASK_TYPE\",                     pipeline_param06\n",
    "    ],\n",
    "    compute_target=compute_target,\n",
    "    source_directory='.',\n",
    "    runconfig=aml_run_config,\n",
    "    allow_reuse = True,\n",
    ")"
   ]
  },
  {
   "cell_type": "markdown",
   "metadata": {},
   "source": [
    "## 2.4.2 Define Azure ML Pipeline"
   ]
  },
  {
   "cell_type": "code",
   "execution_count": null,
   "metadata": {},
   "outputs": [],
   "source": [
    "pipeline = Pipeline(workspace=ws, steps=[InferenceStep])"
   ]
  },
  {
   "cell_type": "markdown",
   "metadata": {},
   "source": [
    "## 2.4.2.2 Work-around in some error\n",
    "\n",
    "Please use the following cell, if you encounter some error. Please see #1.4.2.2 in [training notebook](./10.%20AML_pipeline_train.ipynb)"
   ]
  },
  {
   "cell_type": "code",
   "execution_count": null,
   "metadata": {},
   "outputs": [],
   "source": [
    "import azureml\n",
    "azureml._restclient.snapshots_client.SNAPSHOT_MAX_SIZE_BYTES = 1000000000"
   ]
  },
  {
   "cell_type": "markdown",
   "metadata": {},
   "source": [
    "# 2.4.3 Publish the pipeline\n",
    "\n",
    "As in #1.4.3 in [training notebook](./10.%20AML_pipeline_train.ipynb), the following pipeline will provide fixed URI, which enables you to use the same API target to trigger the pipeline."
   ]
  },
  {
   "cell_type": "code",
   "execution_count": null,
   "metadata": {},
   "outputs": [],
   "source": [
    "try:\n",
    "    pipelineEndpoint = PipelineEndpoint.get(workspace=ws, name=pipelineName_for_inference)\n",
    "except ErrorResponseException as ex:\n",
    "    if \"not found in workspace\" in ex.message:\n",
    "        pipelineEndpoint = None\n",
    "    else:\n",
    "        raise\n",
    "\n",
    "if pipelineEndpoint is None:\n",
    "    print('Pipeline does not exists, creating new: ' + pipelineName_for_inference)\n",
    "    pipelineEndpoint = PipelineEndpoint.publish(workspace = ws\n",
    "                                        ,name = pipelineName_for_inference\n",
    "                                        ,pipeline=pipeline\n",
    "                                        ,description=\"Inferrence Pipeline.\")\n",
    "else:\n",
    "    print('Found existing pipeline ' + pipelineName_for_inference + ', adding new version.')\n",
    "    published_pipeline = pipeline.publish(name = pipelineName_for_inference + \"_Pipeline\")\n",
    "    pipelineEndpoint.add_default(published_pipeline)"
   ]
  },
  {
   "cell_type": "markdown",
   "metadata": {},
   "source": [
    "# 2.4.4 Submit the pipeline\n",
    "\n",
    "You can execute the pipeline by giving the parameters."
   ]
  },
  {
   "cell_type": "code",
   "execution_count": null,
   "metadata": {},
   "outputs": [],
   "source": [
    "pipeline.submit(experiment_name=experiment_name_for_inference,\n",
    "                pipeline_parameters={\"pipeline_arg01\": subscription_id\n",
    "                                    ,\"pipeline_arg02\": resource_group\n",
    "                                    ,\"pipeline_arg03\": workspace_name\n",
    "                                    ,\"pipeline_arg04\": cluster_name\n",
    "                                    ,\"pipeline_arg05\": model_name\n",
    "                                    ,\"pipeline_arg06\": TASK_TYPE                         \n",
    "                                    })"
   ]
  },
  {
   "cell_type": "code",
   "execution_count": null,
   "metadata": {},
   "outputs": [],
   "source": [
    "model_name"
   ]
  }
 ],
 "metadata": {
  "kernelspec": {
   "display_name": "Python (py37_aml)",
   "language": "python",
   "name": "py37_aml"
  },
  "language_info": {
   "codemirror_mode": {
    "name": "ipython",
    "version": 3
   },
   "file_extension": ".py",
   "mimetype": "text/x-python",
   "name": "python",
   "nbconvert_exporter": "python",
   "pygments_lexer": "ipython3",
   "version": "3.7.13"
  },
  "orig_nbformat": 4,
  "vscode": {
   "interpreter": {
    "hash": "31f2aee4e71d21fbe5cf8b01ff0e069b9275f58929596ceb00d14d90e3e16cd6"
   }
  }
 },
 "nbformat": 4,
 "nbformat_minor": 2
}
